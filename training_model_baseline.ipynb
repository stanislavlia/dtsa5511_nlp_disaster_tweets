{
 "cells": [
  {
   "cell_type": "code",
   "execution_count": 108,
   "id": "3640319c",
   "metadata": {},
   "outputs": [],
   "source": [
    "import numpy as np\n",
    "import pandas as pd\n",
    "import tensorflow as tf\n",
    "from sklearn.feature_extraction.text import TfidfVectorizer\n",
    "from sklearn.model_selection import train_test_split\n",
    "from sklearn.pipeline import Pipeline\n",
    "import joblib\n",
    "import keras\n",
    "\n",
    "\n",
    "\n"
   ]
  },
  {
   "cell_type": "code",
   "execution_count": 152,
   "id": "a985f935",
   "metadata": {},
   "outputs": [
    {
     "name": "stdout",
     "output_type": "stream",
     "text": [
      "Train Data shape : (7610, 3)\n"
     ]
    },
    {
     "data": {
      "text/html": [
       "<div>\n",
       "<style scoped>\n",
       "    .dataframe tbody tr th:only-of-type {\n",
       "        vertical-align: middle;\n",
       "    }\n",
       "\n",
       "    .dataframe tbody tr th {\n",
       "        vertical-align: top;\n",
       "    }\n",
       "\n",
       "    .dataframe thead th {\n",
       "        text-align: right;\n",
       "    }\n",
       "</style>\n",
       "<table border=\"1\" class=\"dataframe\">\n",
       "  <thead>\n",
       "    <tr style=\"text-align: right;\">\n",
       "      <th></th>\n",
       "      <th>id</th>\n",
       "      <th>text_cleaned</th>\n",
       "      <th>target</th>\n",
       "    </tr>\n",
       "  </thead>\n",
       "  <tbody>\n",
       "    <tr>\n",
       "      <th>0</th>\n",
       "      <td>1</td>\n",
       "      <td>deeds reason may allah forgive us</td>\n",
       "      <td>1</td>\n",
       "    </tr>\n",
       "    <tr>\n",
       "      <th>1</th>\n",
       "      <td>4</td>\n",
       "      <td>forest fire near la ronge sask canada</td>\n",
       "      <td>1</td>\n",
       "    </tr>\n",
       "    <tr>\n",
       "      <th>2</th>\n",
       "      <td>5</td>\n",
       "      <td>residents asked shelter place notified officer...</td>\n",
       "      <td>1</td>\n",
       "    </tr>\n",
       "    <tr>\n",
       "      <th>3</th>\n",
       "      <td>6</td>\n",
       "      <td>people receive evacuation orders california</td>\n",
       "      <td>1</td>\n",
       "    </tr>\n",
       "    <tr>\n",
       "      <th>4</th>\n",
       "      <td>7</td>\n",
       "      <td>got sent photo ruby smoke pours school</td>\n",
       "      <td>1</td>\n",
       "    </tr>\n",
       "  </tbody>\n",
       "</table>\n",
       "</div>"
      ],
      "text/plain": [
       "   id                                       text_cleaned  target\n",
       "0   1                  deeds reason may allah forgive us       1\n",
       "1   4              forest fire near la ronge sask canada       1\n",
       "2   5  residents asked shelter place notified officer...       1\n",
       "3   6        people receive evacuation orders california       1\n",
       "4   7             got sent photo ruby smoke pours school       1"
      ]
     },
     "execution_count": 152,
     "metadata": {},
     "output_type": "execute_result"
    }
   ],
   "source": [
    "\n",
    "#load clean data\n",
    "full_train_df = pd.read_csv(\"data/cleaned_train.csv\")\n",
    "full_train_df.dropna(inplace=True)\n",
    "\n",
    "\n",
    "print(\"Train Data shape :\", full_train_df.shape)\n",
    "full_train_df.head()"
   ]
  },
  {
   "cell_type": "code",
   "execution_count": 153,
   "id": "69974577",
   "metadata": {},
   "outputs": [
    {
     "name": "stdout",
     "output_type": "stream",
     "text": [
      "<class 'pandas.core.frame.DataFrame'>\n",
      "Int64Index: 7610 entries, 0 to 7612\n",
      "Data columns (total 3 columns):\n",
      " #   Column        Non-Null Count  Dtype \n",
      "---  ------        --------------  ----- \n",
      " 0   id            7610 non-null   int64 \n",
      " 1   text_cleaned  7610 non-null   object\n",
      " 2   target        7610 non-null   int64 \n",
      "dtypes: int64(2), object(1)\n",
      "memory usage: 237.8+ KB\n"
     ]
    }
   ],
   "source": [
    "full_train_df.info()"
   ]
  },
  {
   "cell_type": "markdown",
   "id": "47d2b327",
   "metadata": {},
   "source": [
    "### Splitting data"
   ]
  },
  {
   "cell_type": "code",
   "execution_count": 154,
   "id": "59abdf19",
   "metadata": {
    "scrolled": true
   },
   "outputs": [
    {
     "name": "stdout",
     "output_type": "stream",
     "text": [
      "Train  split shape:  (6000, 3)\n",
      "Validation split shape:  (800, 3)\n",
      "Test  split shape:  (810, 3)\n"
     ]
    }
   ],
   "source": [
    "shuffled_train_df = full_train_df.sample(frac=1,\n",
    "                                    random_state=42,\n",
    "                                    replace=False)\n",
    "\n",
    "\n",
    "\n",
    "train_data_split_df = shuffled_train_df[ : 6000]\n",
    "val_data_split_df = shuffled_train_df[6000 : 6800]\n",
    "test_data_split_df = shuffled_train_df[6800: ]\n",
    "\n",
    "train_split_ids = train_data_split_df[\"id\"]\n",
    "val_split_ids = val_data_split_df[\"id\"]\n",
    "test_split_ids = val_data_split_df[\"id\"]\n",
    "\n",
    "\n",
    "print(\"Train  split shape: \", train_data_split_df.shape)\n",
    "print(\"Validation split shape: \", val_data_split_df.shape)\n",
    "print(\"Test  split shape: \", test_data_split_df.shape)"
   ]
  },
  {
   "cell_type": "markdown",
   "id": "e571dbce",
   "metadata": {},
   "source": [
    "### Establish Baseline: TF-iDF + Logistic Regression"
   ]
  },
  {
   "cell_type": "code",
   "execution_count": 155,
   "id": "52f54e20",
   "metadata": {},
   "outputs": [],
   "source": [
    "TF_MAX_FEATURES = 2000\n",
    "TF_MAX_DF=0.93\n",
    "TF_MIN_DF=0.00001\n"
   ]
  },
  {
   "cell_type": "code",
   "execution_count": 156,
   "id": "0b2d32f7",
   "metadata": {},
   "outputs": [],
   "source": [
    "\n",
    "tfidf_vectorizer = TfidfVectorizer(\n",
    "                             max_features=TF_MAX_FEATURES,\n",
    "                             max_df=TF_MAX_DF,\n",
    "                             min_df=TF_MIN_DF,\n",
    "                             )\n"
   ]
  },
  {
   "cell_type": "code",
   "execution_count": 157,
   "id": "2633c143",
   "metadata": {},
   "outputs": [
    {
     "data": {
      "text/html": [
       "<style>#sk-container-id-20 {color: black;}#sk-container-id-20 pre{padding: 0;}#sk-container-id-20 div.sk-toggleable {background-color: white;}#sk-container-id-20 label.sk-toggleable__label {cursor: pointer;display: block;width: 100%;margin-bottom: 0;padding: 0.3em;box-sizing: border-box;text-align: center;}#sk-container-id-20 label.sk-toggleable__label-arrow:before {content: \"▸\";float: left;margin-right: 0.25em;color: #696969;}#sk-container-id-20 label.sk-toggleable__label-arrow:hover:before {color: black;}#sk-container-id-20 div.sk-estimator:hover label.sk-toggleable__label-arrow:before {color: black;}#sk-container-id-20 div.sk-toggleable__content {max-height: 0;max-width: 0;overflow: hidden;text-align: left;background-color: #f0f8ff;}#sk-container-id-20 div.sk-toggleable__content pre {margin: 0.2em;color: black;border-radius: 0.25em;background-color: #f0f8ff;}#sk-container-id-20 input.sk-toggleable__control:checked~div.sk-toggleable__content {max-height: 200px;max-width: 100%;overflow: auto;}#sk-container-id-20 input.sk-toggleable__control:checked~label.sk-toggleable__label-arrow:before {content: \"▾\";}#sk-container-id-20 div.sk-estimator input.sk-toggleable__control:checked~label.sk-toggleable__label {background-color: #d4ebff;}#sk-container-id-20 div.sk-label input.sk-toggleable__control:checked~label.sk-toggleable__label {background-color: #d4ebff;}#sk-container-id-20 input.sk-hidden--visually {border: 0;clip: rect(1px 1px 1px 1px);clip: rect(1px, 1px, 1px, 1px);height: 1px;margin: -1px;overflow: hidden;padding: 0;position: absolute;width: 1px;}#sk-container-id-20 div.sk-estimator {font-family: monospace;background-color: #f0f8ff;border: 1px dotted black;border-radius: 0.25em;box-sizing: border-box;margin-bottom: 0.5em;}#sk-container-id-20 div.sk-estimator:hover {background-color: #d4ebff;}#sk-container-id-20 div.sk-parallel-item::after {content: \"\";width: 100%;border-bottom: 1px solid gray;flex-grow: 1;}#sk-container-id-20 div.sk-label:hover label.sk-toggleable__label {background-color: #d4ebff;}#sk-container-id-20 div.sk-serial::before {content: \"\";position: absolute;border-left: 1px solid gray;box-sizing: border-box;top: 0;bottom: 0;left: 50%;z-index: 0;}#sk-container-id-20 div.sk-serial {display: flex;flex-direction: column;align-items: center;background-color: white;padding-right: 0.2em;padding-left: 0.2em;position: relative;}#sk-container-id-20 div.sk-item {position: relative;z-index: 1;}#sk-container-id-20 div.sk-parallel {display: flex;align-items: stretch;justify-content: center;background-color: white;position: relative;}#sk-container-id-20 div.sk-item::before, #sk-container-id-20 div.sk-parallel-item::before {content: \"\";position: absolute;border-left: 1px solid gray;box-sizing: border-box;top: 0;bottom: 0;left: 50%;z-index: -1;}#sk-container-id-20 div.sk-parallel-item {display: flex;flex-direction: column;z-index: 1;position: relative;background-color: white;}#sk-container-id-20 div.sk-parallel-item:first-child::after {align-self: flex-end;width: 50%;}#sk-container-id-20 div.sk-parallel-item:last-child::after {align-self: flex-start;width: 50%;}#sk-container-id-20 div.sk-parallel-item:only-child::after {width: 0;}#sk-container-id-20 div.sk-dashed-wrapped {border: 1px dashed gray;margin: 0 0.4em 0.5em 0.4em;box-sizing: border-box;padding-bottom: 0.4em;background-color: white;}#sk-container-id-20 div.sk-label label {font-family: monospace;font-weight: bold;display: inline-block;line-height: 1.2em;}#sk-container-id-20 div.sk-label-container {text-align: center;}#sk-container-id-20 div.sk-container {/* jupyter's `normalize.less` sets `[hidden] { display: none; }` but bootstrap.min.css set `[hidden] { display: none !important; }` so we also need the `!important` here to be able to override the default hidden behavior on the sphinx rendered scikit-learn.org. See: https://github.com/scikit-learn/scikit-learn/issues/21755 */display: inline-block !important;position: relative;}#sk-container-id-20 div.sk-text-repr-fallback {display: none;}</style><div id=\"sk-container-id-20\" class=\"sk-top-container\"><div class=\"sk-text-repr-fallback\"><pre>TfidfVectorizer(max_df=0.93, max_features=2000, min_df=1e-05)</pre><b>In a Jupyter environment, please rerun this cell to show the HTML representation or trust the notebook. <br />On GitHub, the HTML representation is unable to render, please try loading this page with nbviewer.org.</b></div><div class=\"sk-container\" hidden><div class=\"sk-item\"><div class=\"sk-estimator sk-toggleable\"><input class=\"sk-toggleable__control sk-hidden--visually\" id=\"sk-estimator-id-20\" type=\"checkbox\" checked><label for=\"sk-estimator-id-20\" class=\"sk-toggleable__label sk-toggleable__label-arrow\">TfidfVectorizer</label><div class=\"sk-toggleable__content\"><pre>TfidfVectorizer(max_df=0.93, max_features=2000, min_df=1e-05)</pre></div></div></div></div></div>"
      ],
      "text/plain": [
       "TfidfVectorizer(max_df=0.93, max_features=2000, min_df=1e-05)"
      ]
     },
     "execution_count": 157,
     "metadata": {},
     "output_type": "execute_result"
    }
   ],
   "source": [
    "tfidf_vectorizer.fit(train_data_split_df[\"text_cleaned\"])"
   ]
  },
  {
   "cell_type": "code",
   "execution_count": 158,
   "id": "2773501f",
   "metadata": {},
   "outputs": [],
   "source": [
    "train_tfidf_matrix  = tfidf_vectorizer.transform(train_data_split_df[\"text_cleaned\"]).toarray()\n",
    "val_tfidf_matrix = tfidf_vectorizer.transform(val_data_split_df[\"text_cleaned\"]).toarray()\n",
    "test_tfidf_matrix = tfidf_vectorizer.transform(test_data_split_df[\"text_cleaned\"]).toarray()"
   ]
  },
  {
   "cell_type": "code",
   "execution_count": 159,
   "id": "b103359f",
   "metadata": {},
   "outputs": [
    {
     "data": {
      "text/html": [
       "<style>#sk-container-id-21 {color: black;}#sk-container-id-21 pre{padding: 0;}#sk-container-id-21 div.sk-toggleable {background-color: white;}#sk-container-id-21 label.sk-toggleable__label {cursor: pointer;display: block;width: 100%;margin-bottom: 0;padding: 0.3em;box-sizing: border-box;text-align: center;}#sk-container-id-21 label.sk-toggleable__label-arrow:before {content: \"▸\";float: left;margin-right: 0.25em;color: #696969;}#sk-container-id-21 label.sk-toggleable__label-arrow:hover:before {color: black;}#sk-container-id-21 div.sk-estimator:hover label.sk-toggleable__label-arrow:before {color: black;}#sk-container-id-21 div.sk-toggleable__content {max-height: 0;max-width: 0;overflow: hidden;text-align: left;background-color: #f0f8ff;}#sk-container-id-21 div.sk-toggleable__content pre {margin: 0.2em;color: black;border-radius: 0.25em;background-color: #f0f8ff;}#sk-container-id-21 input.sk-toggleable__control:checked~div.sk-toggleable__content {max-height: 200px;max-width: 100%;overflow: auto;}#sk-container-id-21 input.sk-toggleable__control:checked~label.sk-toggleable__label-arrow:before {content: \"▾\";}#sk-container-id-21 div.sk-estimator input.sk-toggleable__control:checked~label.sk-toggleable__label {background-color: #d4ebff;}#sk-container-id-21 div.sk-label input.sk-toggleable__control:checked~label.sk-toggleable__label {background-color: #d4ebff;}#sk-container-id-21 input.sk-hidden--visually {border: 0;clip: rect(1px 1px 1px 1px);clip: rect(1px, 1px, 1px, 1px);height: 1px;margin: -1px;overflow: hidden;padding: 0;position: absolute;width: 1px;}#sk-container-id-21 div.sk-estimator {font-family: monospace;background-color: #f0f8ff;border: 1px dotted black;border-radius: 0.25em;box-sizing: border-box;margin-bottom: 0.5em;}#sk-container-id-21 div.sk-estimator:hover {background-color: #d4ebff;}#sk-container-id-21 div.sk-parallel-item::after {content: \"\";width: 100%;border-bottom: 1px solid gray;flex-grow: 1;}#sk-container-id-21 div.sk-label:hover label.sk-toggleable__label {background-color: #d4ebff;}#sk-container-id-21 div.sk-serial::before {content: \"\";position: absolute;border-left: 1px solid gray;box-sizing: border-box;top: 0;bottom: 0;left: 50%;z-index: 0;}#sk-container-id-21 div.sk-serial {display: flex;flex-direction: column;align-items: center;background-color: white;padding-right: 0.2em;padding-left: 0.2em;position: relative;}#sk-container-id-21 div.sk-item {position: relative;z-index: 1;}#sk-container-id-21 div.sk-parallel {display: flex;align-items: stretch;justify-content: center;background-color: white;position: relative;}#sk-container-id-21 div.sk-item::before, #sk-container-id-21 div.sk-parallel-item::before {content: \"\";position: absolute;border-left: 1px solid gray;box-sizing: border-box;top: 0;bottom: 0;left: 50%;z-index: -1;}#sk-container-id-21 div.sk-parallel-item {display: flex;flex-direction: column;z-index: 1;position: relative;background-color: white;}#sk-container-id-21 div.sk-parallel-item:first-child::after {align-self: flex-end;width: 50%;}#sk-container-id-21 div.sk-parallel-item:last-child::after {align-self: flex-start;width: 50%;}#sk-container-id-21 div.sk-parallel-item:only-child::after {width: 0;}#sk-container-id-21 div.sk-dashed-wrapped {border: 1px dashed gray;margin: 0 0.4em 0.5em 0.4em;box-sizing: border-box;padding-bottom: 0.4em;background-color: white;}#sk-container-id-21 div.sk-label label {font-family: monospace;font-weight: bold;display: inline-block;line-height: 1.2em;}#sk-container-id-21 div.sk-label-container {text-align: center;}#sk-container-id-21 div.sk-container {/* jupyter's `normalize.less` sets `[hidden] { display: none; }` but bootstrap.min.css set `[hidden] { display: none !important; }` so we also need the `!important` here to be able to override the default hidden behavior on the sphinx rendered scikit-learn.org. See: https://github.com/scikit-learn/scikit-learn/issues/21755 */display: inline-block !important;position: relative;}#sk-container-id-21 div.sk-text-repr-fallback {display: none;}</style><div id=\"sk-container-id-21\" class=\"sk-top-container\"><div class=\"sk-text-repr-fallback\"><pre>LogisticRegression(random_state=42)</pre><b>In a Jupyter environment, please rerun this cell to show the HTML representation or trust the notebook. <br />On GitHub, the HTML representation is unable to render, please try loading this page with nbviewer.org.</b></div><div class=\"sk-container\" hidden><div class=\"sk-item\"><div class=\"sk-estimator sk-toggleable\"><input class=\"sk-toggleable__control sk-hidden--visually\" id=\"sk-estimator-id-21\" type=\"checkbox\" checked><label for=\"sk-estimator-id-21\" class=\"sk-toggleable__label sk-toggleable__label-arrow\">LogisticRegression</label><div class=\"sk-toggleable__content\"><pre>LogisticRegression(random_state=42)</pre></div></div></div></div></div>"
      ],
      "text/plain": [
       "LogisticRegression(random_state=42)"
      ]
     },
     "execution_count": 159,
     "metadata": {},
     "output_type": "execute_result"
    }
   ],
   "source": [
    "from sklearn.linear_model import LogisticRegression\n",
    "from sklearn.metrics import f1_score, accuracy_score\n",
    "\n",
    "\n",
    "\n",
    "logreg = LogisticRegression(random_state=42)\n",
    "\n",
    "logreg.fit(train_tfidf_matrix, train_data_split_df[\"target\"])"
   ]
  },
  {
   "cell_type": "code",
   "execution_count": 160,
   "id": "7e0e7de4",
   "metadata": {},
   "outputs": [
    {
     "name": "stdout",
     "output_type": "stream",
     "text": [
      "MODEL:  LogisticRegression(random_state=42)\n",
      "\n",
      "======ACCURACY==========\n",
      "\n",
      "Train Accuracy Score:  0.8558333333333333\n",
      "Validation Accuracy Score:  0.79125\n",
      "Test Accuracy  Score:  0.7864197530864198\n",
      "\n",
      "======F1-Score==========\n",
      "\n",
      "Train F1 Score:  0.814735489398158\n",
      "Validation F1 Score:  0.7344992050874405\n",
      "Test F1 Score:  0.7390648567119157\n"
     ]
    }
   ],
   "source": [
    "\n",
    "def evaluate_model(model, train_data, val_data, test_data):\n",
    "    # Predictions\n",
    "    train_preds = np.round(model.predict(train_data[0]))\n",
    "    val_preds = np.round(model.predict(val_data[0]))\n",
    "    test_preds = np.round(model.predict(test_data[0]))\n",
    "    \n",
    "    # F1 scores\n",
    "    train_f1 = f1_score(train_data[1], train_preds)\n",
    "    val_f1 = f1_score(val_data[1], val_preds)\n",
    "    test_f1 = f1_score(test_data[1], test_preds)\n",
    "    \n",
    "    # Accuracy scores\n",
    "    train_acc = accuracy_score(train_data[1], train_preds)\n",
    "    val_acc = accuracy_score(val_data[1], val_preds)\n",
    "    test_acc = accuracy_score(test_data[1], test_preds)\n",
    "    \n",
    "    # Print results\n",
    "    print(\"MODEL: \", str(model))\n",
    "    print(\"\\n======ACCURACY==========\\n\")\n",
    "    print(\"Train Accuracy Score: \", train_acc)\n",
    "    print(\"Validation Accuracy Score: \", val_acc)\n",
    "    print(\"Test Accuracy  Score: \", test_acc)\n",
    "\n",
    "    print(\"\\n======F1-Score==========\\n\")\n",
    "    print(\"Train F1 Score: \", train_f1)\n",
    "    print(\"Validation F1 Score: \", val_f1)\n",
    "    print(\"Test F1 Score: \", test_f1)\n",
    "\n",
    "\n",
    "evaluate_model(logreg, \n",
    "               (train_tfidf_matrix, train_data_split_df[\"target\"]), \n",
    "               (val_tfidf_matrix, val_data_split_df[\"target\"]), \n",
    "               (test_tfidf_matrix, test_data_split_df[\"target\"]))\n"
   ]
  },
  {
   "cell_type": "markdown",
   "id": "e04f6054",
   "metadata": {},
   "source": [
    "### Saving baseline pipeline"
   ]
  },
  {
   "cell_type": "code",
   "execution_count": 161,
   "id": "7c159b43",
   "metadata": {},
   "outputs": [
    {
     "data": {
      "text/plain": [
       "['assets/tfidf_logreg_baseline.joblib']"
      ]
     },
     "execution_count": 161,
     "metadata": {},
     "output_type": "execute_result"
    }
   ],
   "source": [
    "baseline_pipeline = Pipeline([\n",
    "    ('TF-IDF', tfidf_vectorizer),\n",
    "    ('Logistic Regression', logreg)\n",
    "])\n",
    "\n",
    "\n",
    "joblib.dump(baseline_pipeline, \"assets/tfidf_logreg_baseline.joblib\")\n",
    "\n"
   ]
  },
  {
   "cell_type": "markdown",
   "id": "612e5efb",
   "metadata": {},
   "source": [
    "### Baseline 2: TF-iDf + Simple Neural Net"
   ]
  },
  {
   "cell_type": "code",
   "execution_count": 162,
   "id": "4bc92f8d",
   "metadata": {},
   "outputs": [
    {
     "name": "stdout",
     "output_type": "stream",
     "text": [
      "Model: \"baseline_shallow_neuralnet\"\n",
      "_________________________________________________________________\n",
      " Layer (type)                Output Shape              Param #   \n",
      "=================================================================\n",
      " dropout_26 (Dropout)        (None, 2000)              0         \n",
      "                                                                 \n",
      " dense_39 (Dense)            (None, 32)                64032     \n",
      "                                                                 \n",
      " dropout_27 (Dropout)        (None, 32)                0         \n",
      "                                                                 \n",
      " dense_40 (Dense)            (None, 16)                528       \n",
      "                                                                 \n",
      " dense_41 (Dense)            (None, 1)                 17        \n",
      "                                                                 \n",
      "=================================================================\n",
      "Total params: 64577 (252.25 KB)\n",
      "Trainable params: 64577 (252.25 KB)\n",
      "Non-trainable params: 0 (0.00 Byte)\n",
      "_________________________________________________________________\n"
     ]
    }
   ],
   "source": [
    "\n",
    "baseline_nn_model = tf.keras.Sequential([\n",
    "        \n",
    "        tf.keras.layers.Input(shape=(TF_MAX_FEATURES,)),\n",
    "         tf.keras.layers.Dropout(0.5),\n",
    "        tf.keras.layers.Dense(32, activation=\"relu\"),\n",
    "        tf.keras.layers.Dropout(0.5),\n",
    "        tf.keras.layers.Dense(16, activation=\"relu\"),\n",
    "        tf.keras.layers.Dense(1, activation=\"sigmoid\"),\n",
    "       \n",
    "], name=\"baseline_shallow_neuralnet\")\n",
    "\n",
    "\n",
    "baseline_nn_model.summary()"
   ]
  },
  {
   "cell_type": "code",
   "execution_count": 163,
   "id": "8837d550",
   "metadata": {},
   "outputs": [
    {
     "name": "stdout",
     "output_type": "stream",
     "text": [
      "Epoch 1/30\n",
      "24/24 [==============================] - 2s 22ms/step - loss: 0.6948 - accuracy: 0.4803 - val_loss: 0.6923 - val_accuracy: 0.5663\n",
      "Epoch 2/30\n",
      "24/24 [==============================] - 0s 13ms/step - loss: 0.6922 - accuracy: 0.5467 - val_loss: 0.6906 - val_accuracy: 0.5800\n",
      "Epoch 3/30\n",
      "24/24 [==============================] - 0s 12ms/step - loss: 0.6903 - accuracy: 0.5865 - val_loss: 0.6892 - val_accuracy: 0.5788\n",
      "Epoch 4/30\n",
      "24/24 [==============================] - 0s 14ms/step - loss: 0.6884 - accuracy: 0.5968 - val_loss: 0.6875 - val_accuracy: 0.5775\n",
      "Epoch 5/30\n",
      "24/24 [==============================] - 0s 13ms/step - loss: 0.6862 - accuracy: 0.6032 - val_loss: 0.6852 - val_accuracy: 0.5788\n",
      "Epoch 6/30\n",
      "24/24 [==============================] - 0s 15ms/step - loss: 0.6843 - accuracy: 0.6040 - val_loss: 0.6822 - val_accuracy: 0.5863\n",
      "Epoch 7/30\n",
      "24/24 [==============================] - 0s 13ms/step - loss: 0.6797 - accuracy: 0.6232 - val_loss: 0.6778 - val_accuracy: 0.6075\n",
      "Epoch 8/30\n",
      "24/24 [==============================] - 0s 13ms/step - loss: 0.6757 - accuracy: 0.6378 - val_loss: 0.6722 - val_accuracy: 0.6375\n",
      "Epoch 9/30\n",
      "24/24 [==============================] - 0s 12ms/step - loss: 0.6692 - accuracy: 0.6608 - val_loss: 0.6648 - val_accuracy: 0.6600\n",
      "Epoch 10/30\n",
      "24/24 [==============================] - 0s 12ms/step - loss: 0.6604 - accuracy: 0.6865 - val_loss: 0.6544 - val_accuracy: 0.6938\n",
      "Epoch 11/30\n",
      "24/24 [==============================] - 0s 14ms/step - loss: 0.6490 - accuracy: 0.7138 - val_loss: 0.6414 - val_accuracy: 0.7138\n",
      "Epoch 12/30\n",
      "24/24 [==============================] - 0s 13ms/step - loss: 0.6354 - accuracy: 0.7302 - val_loss: 0.6251 - val_accuracy: 0.7312\n",
      "Epoch 13/30\n",
      "24/24 [==============================] - 0s 12ms/step - loss: 0.6180 - accuracy: 0.7387 - val_loss: 0.6070 - val_accuracy: 0.7362\n",
      "Epoch 14/30\n",
      "24/24 [==============================] - 0s 12ms/step - loss: 0.6031 - accuracy: 0.7443 - val_loss: 0.5873 - val_accuracy: 0.7625\n",
      "Epoch 15/30\n",
      "24/24 [==============================] - 0s 12ms/step - loss: 0.5804 - accuracy: 0.7563 - val_loss: 0.5677 - val_accuracy: 0.7663\n",
      "Epoch 16/30\n",
      "24/24 [==============================] - 0s 13ms/step - loss: 0.5615 - accuracy: 0.7648 - val_loss: 0.5495 - val_accuracy: 0.7738\n",
      "Epoch 17/30\n",
      "24/24 [==============================] - 0s 13ms/step - loss: 0.5462 - accuracy: 0.7547 - val_loss: 0.5340 - val_accuracy: 0.7713\n",
      "Epoch 18/30\n",
      "24/24 [==============================] - 0s 13ms/step - loss: 0.5304 - accuracy: 0.7707 - val_loss: 0.5201 - val_accuracy: 0.7725\n",
      "Epoch 19/30\n",
      "24/24 [==============================] - 0s 14ms/step - loss: 0.5184 - accuracy: 0.7675 - val_loss: 0.5090 - val_accuracy: 0.7788\n",
      "Epoch 20/30\n",
      "24/24 [==============================] - 0s 12ms/step - loss: 0.5132 - accuracy: 0.7727 - val_loss: 0.5005 - val_accuracy: 0.7825\n",
      "Epoch 21/30\n",
      "24/24 [==============================] - 0s 13ms/step - loss: 0.4938 - accuracy: 0.7808 - val_loss: 0.4940 - val_accuracy: 0.7800\n",
      "Epoch 22/30\n",
      "24/24 [==============================] - 0s 14ms/step - loss: 0.4854 - accuracy: 0.7762 - val_loss: 0.4888 - val_accuracy: 0.7763\n",
      "Epoch 23/30\n",
      "24/24 [==============================] - 0s 12ms/step - loss: 0.4821 - accuracy: 0.7797 - val_loss: 0.4848 - val_accuracy: 0.7763\n",
      "Epoch 24/30\n",
      "24/24 [==============================] - 0s 12ms/step - loss: 0.4775 - accuracy: 0.7862 - val_loss: 0.4818 - val_accuracy: 0.7763\n",
      "Epoch 25/30\n",
      "24/24 [==============================] - 0s 13ms/step - loss: 0.4869 - accuracy: 0.7768 - val_loss: 0.4800 - val_accuracy: 0.7763\n",
      "Epoch 26/30\n",
      "24/24 [==============================] - 0s 13ms/step - loss: 0.4701 - accuracy: 0.7815 - val_loss: 0.4781 - val_accuracy: 0.7812\n",
      "Epoch 27/30\n",
      "24/24 [==============================] - 0s 14ms/step - loss: 0.4619 - accuracy: 0.7913 - val_loss: 0.4761 - val_accuracy: 0.7862\n",
      "Epoch 28/30\n",
      "24/24 [==============================] - 0s 13ms/step - loss: 0.4681 - accuracy: 0.7817 - val_loss: 0.4745 - val_accuracy: 0.7825\n",
      "Epoch 29/30\n",
      "24/24 [==============================] - 0s 12ms/step - loss: 0.4658 - accuracy: 0.7857 - val_loss: 0.4736 - val_accuracy: 0.7837\n",
      "Epoch 30/30\n",
      "24/24 [==============================] - 0s 11ms/step - loss: 0.4545 - accuracy: 0.7902 - val_loss: 0.4723 - val_accuracy: 0.7850\n"
     ]
    }
   ],
   "source": [
    "\n",
    "\n",
    "\n",
    "baseline_nn_model.compile(optimizer=tf.keras.optimizers.Adam(0.0003), \n",
    "                          metrics=[\"accuracy\"],\n",
    "                          loss=\"binary_crossentropy\")\n",
    "\n",
    "baseline_nn_history = baseline_nn_model.fit(train_tfidf_matrix, train_data_split_df[\"target\"].values.reshape(-1, 1),\n",
    "                       batch_size=256,\n",
    "                       epochs=30,\n",
    "                       validation_data=(val_tfidf_matrix, val_data_split_df[\"target\"].values.reshape(-1, 1)),\n",
    "                      )"
   ]
  },
  {
   "cell_type": "code",
   "execution_count": 164,
   "id": "1aa3e171",
   "metadata": {},
   "outputs": [
    {
     "name": "stdout",
     "output_type": "stream",
     "text": [
      "188/188 [==============================] - 1s 2ms/step\n",
      "25/25 [==============================] - 0s 3ms/step\n",
      "26/26 [==============================] - 0s 3ms/step\n",
      "MODEL:  <keras.src.engine.sequential.Sequential object at 0x7f24a81742e0>\n",
      "\n",
      "======ACCURACY==========\n",
      "\n",
      "Train Accuracy Score:  0.8536666666666667\n",
      "Validation Accuracy Score:  0.785\n",
      "Test Accuracy  Score:  0.7851851851851852\n",
      "\n",
      "======F1-Score==========\n",
      "\n",
      "Train F1 Score:  0.8098744045041144\n",
      "Validation F1 Score:  0.7234726688102894\n",
      "Test F1 Score:  0.7347560975609757\n"
     ]
    }
   ],
   "source": [
    "\n",
    "evaluate_model(baseline_nn_model, \n",
    "               (train_tfidf_matrix, train_data_split_df[\"target\"]), \n",
    "               (val_tfidf_matrix, val_data_split_df[\"target\"]), \n",
    "               (test_tfidf_matrix, test_data_split_df[\"target\"]))\n"
   ]
  },
  {
   "cell_type": "code",
   "execution_count": 165,
   "id": "d4214ce7",
   "metadata": {},
   "outputs": [],
   "source": [
    "baseline_nn_model.save(\"assets/baseline_nn_model.keras\")"
   ]
  },
  {
   "cell_type": "markdown",
   "id": "e63fa866",
   "metadata": {},
   "source": [
    "### Training LSTM "
   ]
  },
  {
   "cell_type": "markdown",
   "id": "94f47215",
   "metadata": {},
   "source": [
    "#### TODO:\n",
    "     1) train LSTM/GRU models for a while to achive slightly better performance\n",
    "     2) Train distilBERT a few times and try different versions of BERT\n",
    "     3) Save results\n",
    "     4) Merge it all in one notebook!\n"
   ]
  },
  {
   "cell_type": "code",
   "execution_count": null,
   "id": "b0ed61c0",
   "metadata": {},
   "outputs": [],
   "source": []
  }
 ],
 "metadata": {
  "kernelspec": {
   "display_name": "Python 3 (ipykernel)",
   "language": "python",
   "name": "python3"
  },
  "language_info": {
   "codemirror_mode": {
    "name": "ipython",
    "version": 3
   },
   "file_extension": ".py",
   "mimetype": "text/x-python",
   "name": "python",
   "nbconvert_exporter": "python",
   "pygments_lexer": "ipython3",
   "version": "3.10.12"
  }
 },
 "nbformat": 4,
 "nbformat_minor": 5
}
